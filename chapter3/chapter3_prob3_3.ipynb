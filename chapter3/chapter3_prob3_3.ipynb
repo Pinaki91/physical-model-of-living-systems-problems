{
 "cells": [
  {
   "cell_type": "code",
   "execution_count": 1,
   "metadata": {},
   "outputs": [],
   "source": [
    "###################################################\n",
    "#Unifrom distribution of m-bit fractions, chapter 3\n",
    "#Physical modeling of living systems\n",
    "#Pinaki\n",
    "###################################################\n",
    "#importing libraries\n",
    "import numpy as np\n",
    "import matplotlib.pyplot as plt\n",
    "from random import randint as rint"
   ]
  },
  {
   "cell_type": "code",
   "execution_count": 2,
   "metadata": {},
   "outputs": [],
   "source": [
    "#Defining the bit_size and sample_size for the random fraction.\n",
    "#x is an array for storing all the random fractions.\n",
    "bit_size=6\n",
    "sample_size=6000\n",
    "x=np.empty(sample_size)"
   ]
  },
  {
   "cell_type": "code",
   "execution_count": 3,
   "metadata": {},
   "outputs": [],
   "source": [
    "for i in range(sample_size):\n",
    "    #Each random fraction is an outcome of sum of a sequence\n",
    "    temp_sum =0.0\n",
    "    for j in range(bit_size):\n",
    "        #for each term of the sum\n",
    "        #first term denominatro is 2^1. So 'jth' term denominator is 2^(j+1)\n",
    "        term = (1./2**(j+1)) * rint(0,1)\n",
    "        temp_sum = temp_sum + term\n",
    "    #update x\n",
    "    x[i]=temp_sum"
   ]
  },
  {
   "cell_type": "code",
   "execution_count": 5,
   "metadata": {
    "scrolled": true
   },
   "outputs": [
    {
     "data": {
      "text/plain": [
       "(array([666., 546., 579., 681., 592., 531., 628., 541., 536., 700.]),\n",
       " array([0.       , 0.0984375, 0.196875 , 0.2953125, 0.39375  , 0.4921875,\n",
       "        0.590625 , 0.6890625, 0.7875   , 0.8859375, 0.984375 ]),\n",
       " <a list of 10 Patch objects>)"
      ]
     },
     "execution_count": 5,
     "metadata": {},
     "output_type": "execute_result"
    },
    {
     "data": {
      "image/png": "[encoded data removed]",
      "text/plain": [
       "<Figure size 432x288 with 1 Axes>"
      ]
     },
     "metadata": {
      "needs_background": "light"
     },
     "output_type": "display_data"
    }
   ],
   "source": [
    "#plotting\n",
    "fig = plt.figure()\n",
    "ax = fig.add_subplot(1, 1, 1)\n",
    "plt.hist(x)"
   ]
  },
  {
   "cell_type": "markdown",
   "metadata": {},
   "source": [
    "Distribution becomes more uniform if we increase the sample size."
   ]
  }
 ],
 "metadata": {
  "anaconda-cloud": {},
  "kernelspec": {
   "display_name": "Python 3",
   "language": "python",
   "name": "python3"
  },
  "language_info": {
   "codemirror_mode": {
    "name": "ipython",
    "version": 3
   },
   "file_extension": ".py",
   "mimetype": "text/x-python",
   "name": "python",
   "nbconvert_exporter": "python",
   "pygments_lexer": "ipython3",
   "version": "3.7.6"
  }
 },
 "nbformat": 4,
 "nbformat_minor": 4
}
