{
 "cells": [
  {
   "cell_type": "code",
   "execution_count": 16,
   "metadata": {},
   "outputs": [],
   "source": [
    "##################################################\n",
    "#HIV infection modeling, chapter 1\n",
    "#Physical modeling of living systems\n",
    "#Pinaki\n",
    "##################################################\n",
    "#importing libraries\n",
    "import numpy as np\n",
    "import matplotlib.pyplot as plt\n",
    "import pandas as pd"
   ]
  },
  {
   "cell_type": "code",
   "execution_count": 17,
   "metadata": {},
   "outputs": [],
   "source": [
    "#importing data\n",
    "data=pd.read_csv('../PMLSdata/Datasets/01HIVseries/HIVseries.csv')\n",
    "t=data.time\n",
    "y=data.cells"
   ]
  },
  {
   "cell_type": "code",
   "execution_count": 18,
   "metadata": {},
   "outputs": [
    {
     "data": {
      "text/html": [
       "<div>\n",
       "<style scoped>\n",
       "    .dataframe tbody tr th:only-of-type {\n",
       "        vertical-align: middle;\n",
       "    }\n",
       "\n",
       "    .dataframe tbody tr th {\n",
       "        vertical-align: top;\n",
       "    }\n",
       "\n",
       "    .dataframe thead th {\n",
       "        text-align: right;\n",
       "    }\n",
       "</style>\n",
       "<table border=\"1\" class=\"dataframe\">\n",
       "  <thead>\n",
       "    <tr style=\"text-align: right;\">\n",
       "      <th></th>\n",
       "      <th>time</th>\n",
       "      <th>cells</th>\n",
       "    </tr>\n",
       "  </thead>\n",
       "  <tbody>\n",
       "    <tr>\n",
       "      <th>0</th>\n",
       "      <td>0.0000</td>\n",
       "      <td>106100.0</td>\n",
       "    </tr>\n",
       "    <tr>\n",
       "      <th>1</th>\n",
       "      <td>0.0831</td>\n",
       "      <td>93240.0</td>\n",
       "    </tr>\n",
       "    <tr>\n",
       "      <th>2</th>\n",
       "      <td>0.1465</td>\n",
       "      <td>166720.0</td>\n",
       "    </tr>\n",
       "    <tr>\n",
       "      <th>3</th>\n",
       "      <td>0.2587</td>\n",
       "      <td>153780.0</td>\n",
       "    </tr>\n",
       "    <tr>\n",
       "      <th>4</th>\n",
       "      <td>0.4828</td>\n",
       "      <td>118800.0</td>\n",
       "    </tr>\n",
       "    <tr>\n",
       "      <th>5</th>\n",
       "      <td>0.7448</td>\n",
       "      <td>116900.0</td>\n",
       "    </tr>\n",
       "    <tr>\n",
       "      <th>6</th>\n",
       "      <td>0.9817</td>\n",
       "      <td>109570.0</td>\n",
       "    </tr>\n",
       "    <tr>\n",
       "      <th>7</th>\n",
       "      <td>1.2563</td>\n",
       "      <td>111350.0</td>\n",
       "    </tr>\n",
       "    <tr>\n",
       "      <th>8</th>\n",
       "      <td>1.4926</td>\n",
       "      <td>74388.0</td>\n",
       "    </tr>\n",
       "    <tr>\n",
       "      <th>9</th>\n",
       "      <td>1.7299</td>\n",
       "      <td>83291.0</td>\n",
       "    </tr>\n",
       "    <tr>\n",
       "      <th>10</th>\n",
       "      <td>1.9915</td>\n",
       "      <td>66435.0</td>\n",
       "    </tr>\n",
       "    <tr>\n",
       "      <th>11</th>\n",
       "      <td>3.0011</td>\n",
       "      <td>35408.0</td>\n",
       "    </tr>\n",
       "    <tr>\n",
       "      <th>12</th>\n",
       "      <td>4.0109</td>\n",
       "      <td>21125.0</td>\n",
       "    </tr>\n",
       "    <tr>\n",
       "      <th>13</th>\n",
       "      <td>5.0090</td>\n",
       "      <td>20450.0</td>\n",
       "    </tr>\n",
       "    <tr>\n",
       "      <th>14</th>\n",
       "      <td>5.9943</td>\n",
       "      <td>15798.0</td>\n",
       "    </tr>\n",
       "    <tr>\n",
       "      <th>15</th>\n",
       "      <td>7.0028</td>\n",
       "      <td>4785.2</td>\n",
       "    </tr>\n",
       "  </tbody>\n",
       "</table>\n",
       "</div>"
      ],
      "text/plain": [
       "      time     cells\n",
       "0   0.0000  106100.0\n",
       "1   0.0831   93240.0\n",
       "2   0.1465  166720.0\n",
       "3   0.2587  153780.0\n",
       "4   0.4828  118800.0\n",
       "5   0.7448  116900.0\n",
       "6   0.9817  109570.0\n",
       "7   1.2563  111350.0\n",
       "8   1.4926   74388.0\n",
       "9   1.7299   83291.0\n",
       "10  1.9915   66435.0\n",
       "11  3.0011   35408.0\n",
       "12  4.0109   21125.0\n",
       "13  5.0090   20450.0\n",
       "14  5.9943   15798.0\n",
       "15  7.0028    4785.2"
      ]
     },
     "execution_count": 18,
     "metadata": {},
     "output_type": "execute_result"
    }
   ],
   "source": [
    "data"
   ]
  },
  {
   "cell_type": "code",
   "execution_count": 19,
   "metadata": {},
   "outputs": [
    {
     "data": {
      "image/png": "[encoded data removed]",
      "text/plain": [
       "<Figure size 432x288 with 1 Axes>"
      ]
     },
     "metadata": {
      "needs_background": "light"
     },
     "output_type": "display_data"
    }
   ],
   "source": [
    "#plotting\n",
    "fig = plt.figure()\n",
    "ax = fig.add_subplot(1, 1, 1)\n",
    "plt.scatter(t,y)\n",
    "ax.set_ylim(1000,500000)\n",
    "ax.set_yscale('log')"
   ]
  },
  {
   "cell_type": "markdown",
   "metadata": {},
   "source": [
    "We want to fit the data with trial solution from the leaking container model."
   ]
  },
  {
   "cell_type": "code",
   "execution_count": 20,
   "metadata": {},
   "outputs": [
    {
     "data": {
      "text/latex": [
       "\\begin{align}\n",
       "N_v(t)=X e^{-k_I t}+ (N_{v0}-X)e^{-k_V t} \\\\\n",
       "\\end{align}\n"
      ],
      "text/plain": [
       "<IPython.core.display.Latex object>"
      ]
     },
     "metadata": {},
     "output_type": "display_data"
    }
   ],
   "source": [
    "%%latex\n",
    "\\begin{align}\n",
    "N_v(t)=X e^{-k_I t}+ (N_{v0}-X)e^{-k_V t} \\\\\n",
    "\\end{align}"
   ]
  },
  {
   "cell_type": "code",
   "execution_count": 21,
   "metadata": {},
   "outputs": [
    {
     "data": {
      "text/latex": [
       "where\n",
       "\\begin{align}\n",
       "X=\\frac{\\beta}{k_V-k_I} \\\\\n",
       "\\end{align}\n"
      ],
      "text/plain": [
       "<IPython.core.display.Latex object>"
      ]
     },
     "metadata": {},
     "output_type": "display_data"
    }
   ],
   "source": [
    "%%latex\n",
    "where\n",
    "\\begin{align}\n",
    "X=\\frac{\\beta}{k_V-k_I} \\\\\n",
    "\\end{align}"
   ]
  },
  {
   "cell_type": "code",
   "execution_count": 22,
   "metadata": {},
   "outputs": [],
   "source": [
    "#Trial solution I want to superimpose with arbiary values\n",
    "k_V=10.\n",
    "k_I=1.\n",
    "beta=1000\n",
    "X=beta/(k_V-k_I)\n",
    "Nv0=106100\n",
    "Nv=X*np.exp(-k_I*t)+(Nv0-X)*np.exp(-k_V*t)"
   ]
  },
  {
   "cell_type": "code",
   "execution_count": 25,
   "metadata": {},
   "outputs": [
    {
     "data": {
      "image/png": "[encoded data removed]",
      "text/plain": [
       "<Figure size 432x288 with 1 Axes>"
      ]
     },
     "metadata": {
      "needs_background": "light"
     },
     "output_type": "display_data"
    }
   ],
   "source": [
    "#plotting the trial solution with arbitary parameters\n",
    "fig = plt.figure()\n",
    "ax = fig.add_subplot(1, 1, 1)\n",
    "plt.scatter(t,y)\n",
    "plt.plot(t,Nv,'red')\n",
    "ax.set_yscale('log')"
   ]
  },
  {
   "cell_type": "markdown",
   "metadata": {},
   "source": [
    "Not surprisingly, it does not fit the data.\n",
    "\n",
    "We will try to fit the long time behaviour with a simple exponential, which is a line on log scale."
   ]
  },
  {
   "cell_type": "code",
   "execution_count": 26,
   "metadata": {},
   "outputs": [],
   "source": [
    "#choosing better parameters by finding a line that may best fit the long time trend\n",
    "#Two points of a line that passess through the long time trend\n",
    "t1=1.9915\n",
    "y1=66435\n",
    "t2=4.5\n",
    "y2=20693\n",
    "slope=(np.log(y2)-np.log(y1))/(t2-t1)\n",
    "intercept=np.log(y1)-slope*t1"
   ]
  },
  {
   "cell_type": "markdown",
   "metadata": {},
   "source": [
    "Footnote: How to get the slope and intercept from a line if we know two points?"
   ]
  },
  {
   "cell_type": "code",
   "execution_count": 27,
   "metadata": {},
   "outputs": [
    {
     "data": {
      "text/latex": [
       "Equation of a line passing through two points ($x_1, y_1$) and ($x_2, y_2$) is\n",
       "\\begin{align}\n",
       "y-y_1=\\frac{(y_2-y_1)}{(x_2-x_1)}(x-x_1) \n",
       "\\end{align}\n"
      ],
      "text/plain": [
       "<IPython.core.display.Latex object>"
      ]
     },
     "metadata": {},
     "output_type": "display_data"
    }
   ],
   "source": [
    "%%latex\n",
    "Equation of a line passing through two points ($x_1, y_1$) and ($x_2, y_2$) is\n",
    "\\begin{align}\n",
    "y-y_1=\\frac{(y_2-y_1)}{(x_2-x_1)}(x-x_1) \n",
    "\\end{align}"
   ]
  },
  {
   "cell_type": "markdown",
   "metadata": {},
   "source": [
    "We can rewrite the above equation in the form of \n",
    "\n",
    "$y=mx+c$\n",
    "\n",
    "where m is the slope and c is the intercept with the y-axis"
   ]
  },
  {
   "cell_type": "code",
   "execution_count": 28,
   "metadata": {},
   "outputs": [
    {
     "data": {
      "text/latex": [
       "\\begin{align}\n",
       "y=y_1 + \\frac{(y_2-y_1)}{(x_2-x_1)}(x-x_1) \n",
       "\\end{align}\n"
      ],
      "text/plain": [
       "<IPython.core.display.Latex object>"
      ]
     },
     "metadata": {},
     "output_type": "display_data"
    }
   ],
   "source": [
    "%%latex\n",
    "\\begin{align}\n",
    "y=y_1 + \\frac{(y_2-y_1)}{(x_2-x_1)}(x-x_1) \n",
    "\\end{align}"
   ]
  },
  {
   "cell_type": "code",
   "execution_count": 29,
   "metadata": {},
   "outputs": [
    {
     "data": {
      "text/latex": [
       "Rearranging the terms on right hand side,\n",
       "\\begin{align}\n",
       "y=\\frac{(y_2-y_1)}{(x_2-x_1)}(x)+ y_1 - \\frac{(y_2-y_1)}{(x_2-x_1)}(x_1) \n",
       "\\end{align}\n"
      ],
      "text/plain": [
       "<IPython.core.display.Latex object>"
      ]
     },
     "metadata": {},
     "output_type": "display_data"
    }
   ],
   "source": [
    "%%latex\n",
    "Rearranging the terms on right hand side,\n",
    "\\begin{align}\n",
    "y=\\frac{(y_2-y_1)}{(x_2-x_1)}(x)+ y_1 - \\frac{(y_2-y_1)}{(x_2-x_1)}(x_1) \n",
    "\\end{align}"
   ]
  },
  {
   "cell_type": "markdown",
   "metadata": {},
   "source": [
    "By comparing the above equation with $y=mx+c$, we can see that"
   ]
  },
  {
   "cell_type": "code",
   "execution_count": 30,
   "metadata": {},
   "outputs": [
    {
     "data": {
      "text/latex": [
       "\\begin{align}\n",
       "m=\\frac{(y_2-y_1)}{(x_2-x_1)}\n",
       "\\end{align}\n",
       "\\begin{align}\n",
       "c=y_1-\\frac{(y_2-y_1)}{(x_2-x_1)}(x_1)=y_1-mx_1\n",
       "\\end{align}\n"
      ],
      "text/plain": [
       "<IPython.core.display.Latex object>"
      ]
     },
     "metadata": {},
     "output_type": "display_data"
    }
   ],
   "source": [
    "%%latex\n",
    "\\begin{align}\n",
    "m=\\frac{(y_2-y_1)}{(x_2-x_1)}\n",
    "\\end{align}\n",
    "\\begin{align}\n",
    "c=y_1-\\frac{(y_2-y_1)}{(x_2-x_1)}(x_1)=y_1-mx_1\n",
    "\\end{align}"
   ]
  },
  {
   "cell_type": "code",
   "execution_count": 31,
   "metadata": {},
   "outputs": [],
   "source": [
    "#Plotting the fitting function for long time trend on log scale\n",
    "f=np.exp(intercept+slope*t)"
   ]
  },
  {
   "cell_type": "code",
   "execution_count": 79,
   "metadata": {},
   "outputs": [
    {
     "data": {
      "text/plain": [
       "(-0.46499045135083883, 12.030007788890604)"
      ]
     },
     "execution_count": 79,
     "metadata": {},
     "output_type": "execute_result"
    }
   ],
   "source": [
    "slope, intercept"
   ]
  },
  {
   "cell_type": "code",
   "execution_count": 34,
   "metadata": {
    "scrolled": true
   },
   "outputs": [
    {
     "data": {
      "image/png": "[encoded data removed]",
      "text/plain": [
       "<Figure size 432x288 with 1 Axes>"
      ]
     },
     "metadata": {
      "needs_background": "light"
     },
     "output_type": "display_data"
    }
   ],
   "source": [
    "#plotting the fitted line for long time trend\n",
    "fig = plt.figure()\n",
    "ax = fig.add_subplot(1, 1, 1)\n",
    "plt.scatter(t,y)\n",
    "plt.plot(t,f,'red')\n",
    "ax.set_yscale('log')"
   ]
  },
  {
   "cell_type": "code",
   "execution_count": 35,
   "metadata": {},
   "outputs": [],
   "source": [
    "#Going back to our model\n",
    "X=np.exp(intercept)\n",
    "k_I=-slope"
   ]
  },
  {
   "cell_type": "code",
   "execution_count": 36,
   "metadata": {},
   "outputs": [],
   "source": [
    "Nv=X*np.exp(-k_I*t)+(Nv0-X)*np.exp(-k_V*t)"
   ]
  },
  {
   "cell_type": "code",
   "execution_count": 37,
   "metadata": {},
   "outputs": [
    {
     "data": {
      "image/png": "[encoded data removed]",
      "text/plain": [
       "<Figure size 432x288 with 1 Axes>"
      ]
     },
     "metadata": {
      "needs_background": "light"
     },
     "output_type": "display_data"
    }
   ],
   "source": [
    "#plotting the trial solution with somewhat better parameters\n",
    "fig = plt.figure()\n",
    "ax = fig.add_subplot(1, 1, 1)\n",
    "plt.scatter(t,y)\n",
    "plt.plot(t,Nv,'red')\n",
    "ax.set_yscale('log')"
   ]
  },
  {
   "cell_type": "markdown",
   "metadata": {},
   "source": [
    "We can use additional information regarding the effect of drug at initial time to better fit the data."
   ]
  }
 ],
 "metadata": {
  "anaconda-cloud": {},
  "kernelspec": {
   "display_name": "Python 3",
   "language": "python",
   "name": "python3"
  },
  "language_info": {
   "codemirror_mode": {
    "name": "ipython",
    "version": 3
   },
   "file_extension": ".py",
   "mimetype": "text/x-python",
   "name": "python",
   "nbconvert_exporter": "python",
   "pygments_lexer": "ipython3",
   "version": "3.7.6"
  }
 },
 "nbformat": 4,
 "nbformat_minor": 4
}
